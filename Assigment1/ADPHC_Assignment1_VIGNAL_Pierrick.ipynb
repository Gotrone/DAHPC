{
 "cells": [
  {
   "cell_type": "markdown",
   "id": "db260fbe",
   "metadata": {},
   "source": [
    "# ADPHC Assignment 1: Titanic Data Analysis\n",
    "\n",
    "## 1. Introduction\n",
    "This notebook demonstrates a Data Analytics project using tools from T2: seaborn, scipy, scikit-learn, dask, and pandas. We analyze the Titanic dataset (publicly available via seaborn), perform data cleaning, exploratory data analysis, grouping, statistical testing, and build a simple logistic regression model to predict survival.\n",
    "\n",
    "Dataset source: https://github.com/mwaskom/seaborn-data (Titanic)"
   ]
  },
  {
   "cell_type": "markdown",
   "id": "b42a9a09",
   "metadata": {},
   "source": [
    "## 2. Setup and Imports"
   ]
  },
  {
   "cell_type": "code",
   "execution_count": 3,
   "id": "9a1c25d3",
   "metadata": {},
   "outputs": [],
   "source": [
    "import pandas as pd\n",
    "import seaborn as sns\n",
    "import matplotlib.pyplot as plt\n",
    "from scipy import stats\n",
    "from sklearn.model_selection import train_test_split\n",
    "from sklearn.linear_model import LogisticRegression\n",
    "from sklearn.metrics import accuracy_score, classification_report\n",
    "import dask.dataframe as dd"
   ]
  },
  {
   "cell_type": "markdown",
   "id": "79dafbdb",
   "metadata": {},
   "source": [
    "## 3. Data Loading"
   ]
  },
  {
   "cell_type": "code",
   "execution_count": 4,
   "id": "04ebd001",
   "metadata": {},
   "outputs": [
    {
     "data": {
      "text/html": [
       "<div>\n",
       "<style scoped>\n",
       "    .dataframe tbody tr th:only-of-type {\n",
       "        vertical-align: middle;\n",
       "    }\n",
       "\n",
       "    .dataframe tbody tr th {\n",
       "        vertical-align: top;\n",
       "    }\n",
       "\n",
       "    .dataframe thead th {\n",
       "        text-align: right;\n",
       "    }\n",
       "</style>\n",
       "<table border=\"1\" class=\"dataframe\">\n",
       "  <thead>\n",
       "    <tr style=\"text-align: right;\">\n",
       "      <th></th>\n",
       "      <th>survived</th>\n",
       "      <th>pclass</th>\n",
       "      <th>sex</th>\n",
       "      <th>age</th>\n",
       "      <th>sibsp</th>\n",
       "      <th>parch</th>\n",
       "      <th>fare</th>\n",
       "      <th>embarked</th>\n",
       "      <th>class</th>\n",
       "      <th>who</th>\n",
       "      <th>adult_male</th>\n",
       "      <th>deck</th>\n",
       "      <th>embark_town</th>\n",
       "      <th>alive</th>\n",
       "      <th>alone</th>\n",
       "    </tr>\n",
       "  </thead>\n",
       "  <tbody>\n",
       "    <tr>\n",
       "      <th>0</th>\n",
       "      <td>0</td>\n",
       "      <td>3</td>\n",
       "      <td>male</td>\n",
       "      <td>22.0</td>\n",
       "      <td>1</td>\n",
       "      <td>0</td>\n",
       "      <td>7.2500</td>\n",
       "      <td>S</td>\n",
       "      <td>Third</td>\n",
       "      <td>man</td>\n",
       "      <td>True</td>\n",
       "      <td>NaN</td>\n",
       "      <td>Southampton</td>\n",
       "      <td>no</td>\n",
       "      <td>False</td>\n",
       "    </tr>\n",
       "    <tr>\n",
       "      <th>1</th>\n",
       "      <td>1</td>\n",
       "      <td>1</td>\n",
       "      <td>female</td>\n",
       "      <td>38.0</td>\n",
       "      <td>1</td>\n",
       "      <td>0</td>\n",
       "      <td>71.2833</td>\n",
       "      <td>C</td>\n",
       "      <td>First</td>\n",
       "      <td>woman</td>\n",
       "      <td>False</td>\n",
       "      <td>C</td>\n",
       "      <td>Cherbourg</td>\n",
       "      <td>yes</td>\n",
       "      <td>False</td>\n",
       "    </tr>\n",
       "    <tr>\n",
       "      <th>2</th>\n",
       "      <td>1</td>\n",
       "      <td>3</td>\n",
       "      <td>female</td>\n",
       "      <td>26.0</td>\n",
       "      <td>0</td>\n",
       "      <td>0</td>\n",
       "      <td>7.9250</td>\n",
       "      <td>S</td>\n",
       "      <td>Third</td>\n",
       "      <td>woman</td>\n",
       "      <td>False</td>\n",
       "      <td>NaN</td>\n",
       "      <td>Southampton</td>\n",
       "      <td>yes</td>\n",
       "      <td>True</td>\n",
       "    </tr>\n",
       "    <tr>\n",
       "      <th>3</th>\n",
       "      <td>1</td>\n",
       "      <td>1</td>\n",
       "      <td>female</td>\n",
       "      <td>35.0</td>\n",
       "      <td>1</td>\n",
       "      <td>0</td>\n",
       "      <td>53.1000</td>\n",
       "      <td>S</td>\n",
       "      <td>First</td>\n",
       "      <td>woman</td>\n",
       "      <td>False</td>\n",
       "      <td>C</td>\n",
       "      <td>Southampton</td>\n",
       "      <td>yes</td>\n",
       "      <td>False</td>\n",
       "    </tr>\n",
       "    <tr>\n",
       "      <th>4</th>\n",
       "      <td>0</td>\n",
       "      <td>3</td>\n",
       "      <td>male</td>\n",
       "      <td>35.0</td>\n",
       "      <td>0</td>\n",
       "      <td>0</td>\n",
       "      <td>8.0500</td>\n",
       "      <td>S</td>\n",
       "      <td>Third</td>\n",
       "      <td>man</td>\n",
       "      <td>True</td>\n",
       "      <td>NaN</td>\n",
       "      <td>Southampton</td>\n",
       "      <td>no</td>\n",
       "      <td>True</td>\n",
       "    </tr>\n",
       "  </tbody>\n",
       "</table>\n",
       "</div>"
      ],
      "text/plain": [
       "   survived  pclass     sex   age  sibsp  parch     fare embarked  class  \\\n",
       "0         0       3    male  22.0      1      0   7.2500        S  Third   \n",
       "1         1       1  female  38.0      1      0  71.2833        C  First   \n",
       "2         1       3  female  26.0      0      0   7.9250        S  Third   \n",
       "3         1       1  female  35.0      1      0  53.1000        S  First   \n",
       "4         0       3    male  35.0      0      0   8.0500        S  Third   \n",
       "\n",
       "     who  adult_male deck  embark_town alive  alone  \n",
       "0    man        True  NaN  Southampton    no  False  \n",
       "1  woman       False    C    Cherbourg   yes  False  \n",
       "2  woman       False  NaN  Southampton   yes   True  \n",
       "3  woman       False    C  Southampton   yes  False  \n",
       "4    man        True  NaN  Southampton    no   True  "
      ]
     },
     "execution_count": 4,
     "metadata": {},
     "output_type": "execute_result"
    }
   ],
   "source": [
    "# Load Titanic dataset\n",
    "df = sns.load_dataset('titanic')\n",
    "df.head()"
   ]
  },
  {
   "cell_type": "markdown",
   "id": "e784038c",
   "metadata": {},
   "source": [
    "## 4. Data Cleaning Function"
   ]
  },
  {
   "cell_type": "code",
   "execution_count": 5,
   "id": "65804dba",
   "metadata": {},
   "outputs": [
    {
     "name": "stdout",
     "output_type": "stream",
     "text": [
      "<class 'pandas.core.frame.DataFrame'>\n",
      "Index: 779 entries, 0 to 890\n",
      "Data columns (total 15 columns):\n",
      " #   Column       Non-Null Count  Dtype   \n",
      "---  ------       --------------  -----   \n",
      " 0   survived     779 non-null    int64   \n",
      " 1   pclass       779 non-null    int64   \n",
      " 2   sex          779 non-null    object  \n",
      " 3   age          779 non-null    float64 \n",
      " 4   sibsp        779 non-null    int64   \n",
      " 5   parch        779 non-null    int64   \n",
      " 6   fare         779 non-null    float64 \n",
      " 7   embarked     779 non-null    object  \n",
      " 8   class        779 non-null    category\n",
      " 9   who          779 non-null    object  \n",
      " 10  adult_male   779 non-null    bool    \n",
      " 11  deck         200 non-null    category\n",
      " 12  embark_town  779 non-null    object  \n",
      " 13  alive        779 non-null    object  \n",
      " 14  alone        779 non-null    bool    \n",
      "dtypes: bool(2), category(2), float64(2), int64(4), object(5)\n",
      "memory usage: 76.6+ KB\n"
     ]
    }
   ],
   "source": [
    "def clean_data(df):\n",
    "    \"\"\"Basic cleaning: fill age with median, drop rows missing embarked, drop duplicates.\"\"\"\n",
    "    df = df.copy()\n",
    "    df['age'] = df['age'].fillna(df['age'].median())\n",
    "    df = df.dropna(subset=['embarked'])\n",
    "    df = df.drop_duplicates()\n",
    "    return df\n",
    "\n",
    "# Apply cleaning\n",
    "df_clean = clean_data(df)\n",
    "df_clean.info()"
   ]
  },
  {
   "cell_type": "markdown",
   "id": "66508167",
   "metadata": {},
   "source": [
    "## 5. Exploratory Data Analysis (Seaborn)"
   ]
  },
  {
   "cell_type": "code",
   "execution_count": 6,
   "id": "4f8f734c",
   "metadata": {},
   "outputs": [
    {
     "data": {
      "image/png": "[encoded data removed]",
      "text/plain": [
       "<Figure size 640x480 with 1 Axes>"
      ]
     },
     "metadata": {},
     "output_type": "display_data"
    },
    {
     "data": {
      "image/png": "[encoded data removed]",
      "text/plain": [
       "<Figure size 640x480 with 1 Axes>"
      ]
     },
     "metadata": {},
     "output_type": "display_data"
    }
   ],
   "source": [
    "# Survival count\n",
    "sns.countplot(x='survived', data=df_clean)\n",
    "plt.title('Survival Counts')\n",
    "plt.show()\n",
    "\n",
    "# Age distribution by survival\n",
    "sns.histplot(data=df_clean, x='age', hue='survived', kde=True)\n",
    "plt.title('Age Distribution by Survival')\n",
    "plt.show()"
   ]
  },
  {
   "cell_type": "markdown",
   "id": "66db24a9",
   "metadata": {},
   "source": [
    "## 6. GroupBy Analysis"
   ]
  },
  {
   "cell_type": "code",
   "execution_count": 7,
   "id": "7f286841",
   "metadata": {},
   "outputs": [
    {
     "name": "stdout",
     "output_type": "stream",
     "text": [
      "   pclass     sex  survived\n",
      "0       1  female  0.967033\n",
      "1       1    male  0.371901\n",
      "2       2  female  0.917808\n",
      "3       2    male  0.184783\n",
      "4       3  female  0.472441\n",
      "5       3    male  0.160000\n"
     ]
    }
   ],
   "source": [
    "# Survival rate by passenger class and sex\n",
    "grouped = df_clean.groupby(['pclass', 'sex'])['survived'].mean().reset_index()\n",
    "print(grouped)"
   ]
  },
  {
   "cell_type": "markdown",
   "id": "4eaacee0",
   "metadata": {},
   "source": [
    "## 7. Statistical Testing with SciPy"
   ]
  },
  {
   "cell_type": "code",
   "execution_count": 8,
   "id": "90097136",
   "metadata": {},
   "outputs": [
    {
     "name": "stdout",
     "output_type": "stream",
     "text": [
      "Chi2=86.00, p-value=0.0000\n"
     ]
    }
   ],
   "source": [
    "# Chi-square test: survival vs class\n",
    "contingency = pd.crosstab(df_clean['pclass'], df_clean['survived'])\n",
    "chi2, p, dof, expected = stats.chi2_contingency(contingency)\n",
    "print(f\"Chi2={chi2:.2f}, p-value={p:.4f}\")"
   ]
  },
  {
   "cell_type": "markdown",
   "id": "11347864",
   "metadata": {},
   "source": [
    "## 8. Machine Learning Model (scikit-learn)"
   ]
  },
  {
   "cell_type": "code",
   "execution_count": 9,
   "id": "2ed44330",
   "metadata": {},
   "outputs": [
    {
     "name": "stdout",
     "output_type": "stream",
     "text": [
      "Accuracy: 0.774\n",
      "              precision    recall  f1-score   support\n",
      "\n",
      "           0       0.79      0.85      0.82       142\n",
      "           1       0.74      0.65      0.69        92\n",
      "\n",
      "    accuracy                           0.77       234\n",
      "   macro avg       0.77      0.75      0.76       234\n",
      "weighted avg       0.77      0.77      0.77       234\n",
      "\n"
     ]
    }
   ],
   "source": [
    "# Feature selection\n",
    "df_ml = df_clean[['survived', 'pclass', 'sex', 'age', 'fare']].copy()\n",
    "df_ml['sex'] = df_ml['sex'].map({'male':0, 'female':1})\n",
    "\n",
    "X = df_ml.drop('survived', axis=1)\n",
    "y = df_ml['survived']\n",
    "\n",
    "X_train, X_test, y_train, y_test = train_test_split(X, y, test_size=0.3, random_state=42)\n",
    "\n",
    "model = LogisticRegression(max_iter=200)\n",
    "model.fit(X_train, y_train)\n",
    "\n",
    "y_pred = model.predict(X_test)\n",
    "print(f\"Accuracy: {accuracy_score(y_test, y_pred):.3f}\")\n",
    "print(classification_report(y_test, y_pred))"
   ]
  },
  {
   "cell_type": "markdown",
   "id": "a2ed8837",
   "metadata": {},
   "source": [
    "## 9. Dask Demonstration"
   ]
  },
  {
   "cell_type": "code",
   "execution_count": 10,
   "id": "af52aa5c",
   "metadata": {},
   "outputs": [
    {
     "name": "stdout",
     "output_type": "stream",
     "text": [
      "embark_town\n",
      "Cherbourg      63.710056\n",
      "Queenstown     14.563490\n",
      "Southampton    28.753642\n",
      "Name: fare, dtype: float64\n"
     ]
    }
   ],
   "source": [
    "# Convert to Dask DataFrame for demonstration\n",
    "ddf = dd.from_pandas(df_clean, npartitions=3)\n",
    "# Compute average fare by embark_town\n",
    "dask_group = ddf.groupby('embark_town')['fare'].mean().compute()\n",
    "print(dask_group)"
   ]
  },
  {
   "cell_type": "markdown",
   "id": "ed3090e7",
   "metadata": {},
   "source": [
    "## 10. Conclusion\n",
    "This minimal notebook covers data cleaning, EDA with seaborn, groupby analyses, statistical testing with SciPy, a simple logistic regression model using scikit-learn, and a demonstration of Dask for parallel data operations. Adjust and extend as needed for deeper analysis."
   ]
  }
 ],
 "metadata": {
  "kernelspec": {
   "display_name": "Python 3",
   "language": "python",
   "name": "python3"
  },
  "language_info": {
   "codemirror_mode": {
    "name": "ipython",
    "version": 3
   },
   "file_extension": ".py",
   "mimetype": "text/x-python",
   "name": "python",
   "nbconvert_exporter": "python",
   "pygments_lexer": "ipython3",
   "version": "3.8.10"
  }
 },
 "nbformat": 4,
 "nbformat_minor": 5
}
